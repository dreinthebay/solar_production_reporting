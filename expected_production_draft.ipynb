{
 "cells": [
  {
   "cell_type": "markdown",
   "metadata": {},
   "source": [
    "# Expected Production for Solar Reporting\n",
    "In this file, I will test various ways to create expected production. The results from this work will show the best way to make expected production on a system by system bases. The code will be transferred to production code that will create expected production for the entire fleet based on model inputs.\n",
    "\n",
    "## Model Inputs\n",
    "The inputs for expected production modeling are:\n",
    "### 1. Annual expected production\n",
    "### 2. System size\n",
    "### 3. Monthly adjusted production ratio curves\n",
    "### 4. Annual degradation\n",
    "### 5. Weather\n",
    "\n",
    "## Model Calculations\n",
    "### 1. Calculation A\n",
    "Create 365 days of data, move date prior in service date to the end of the year, copy for 25 years, group by month, apply degradation factor\n",
    "### 2. Calulation B\n",
    "Make empty date range, do expected production calculation for each month, special case for in service month\n",
    "\n",
    "## Model Outputs\n",
    "### 1. Metadata\n",
    "### 2. Data format\n",
    "The data format could be in rows = dates, columns = system ids. Or the format could be colums =[dates, systemid, value]\n"
   ]
  },
  {
   "cell_type": "code",
   "execution_count": 102,
   "metadata": {},
   "outputs": [],
   "source": [
    "#correct\n",
    "import numpy as np\n",
    "import pandas as pd\n",
    "from datetime import datetime\n",
    "#import matplotlib as plt"
   ]
  },
  {
   "cell_type": "code",
   "execution_count": 145,
   "metadata": {},
   "outputs": [],
   "source": [
    "# inputs\n",
    "system_size = 1\n",
    "specific_yield_per_year = 1250\n",
    "in_service_date = pd.to_datetime('2020-03-15')\n",
    "annual_degradation_rate = 0.005\n",
    "weather_adj = [0] * 300\n",
    "#weather_adj = [i*0 for i in range(301)]\n",
    "mpc_file_name = 'monthly_production_curve.csv'\n",
    "mpc = pd.read_csv(mpc_file_name)\n"
   ]
  },
  {
   "cell_type": "code",
   "execution_count": 204,
   "metadata": {},
   "outputs": [],
   "source": [
    "# create dataframe of date ranges\n",
    "type(in_service_date)\n",
    "#first_month = pd.to_datetime({'year':in_service_date.year,'month':in_service_date.month,'day':1})\n",
    "#print(pd.to_datetime(year=2020,month=3,day=1))\n",
    "# check date range\n",
    "first_month = pd.to_datetime(in_service_date - pd.offsets.MonthBegin(1))\n",
    "date_range = pd.date_range(start=first_month, periods=301, freq='M')\n"
   ]
  },
  {
   "cell_type": "code",
   "execution_count": 205,
   "metadata": {},
   "outputs": [
    {
     "data": {
      "text/plain": [
       "DatetimeIndex(['2020-03-31', '2020-04-30', '2020-05-31', '2020-06-30',\n",
       "               '2020-07-31', '2020-08-31', '2020-09-30', '2020-10-31',\n",
       "               '2020-11-30', '2020-12-31',\n",
       "               ...\n",
       "               '2044-06-30', '2044-07-31', '2044-08-31', '2044-09-30',\n",
       "               '2044-10-31', '2044-11-30', '2044-12-31', '2045-01-31',\n",
       "               '2045-02-28', '2045-03-31'],\n",
       "              dtype='datetime64[ns]', length=301, freq='M')"
      ]
     },
     "execution_count": 205,
     "metadata": {},
     "output_type": "execute_result"
    }
   ],
   "source": [
    "# print date range check\n",
    "date_range"
   ]
  },
  {
   "cell_type": "code",
   "execution_count": 148,
   "metadata": {},
   "outputs": [],
   "source": [
    "df = pd.DataFrame(index=date_range)"
   ]
  },
  {
   "cell_type": "code",
   "execution_count": 149,
   "metadata": {},
   "outputs": [
    {
     "data": {
      "text/plain": [
       "datetime.datetime(2020, 1, 1, 0, 0)"
      ]
     },
     "execution_count": 149,
     "metadata": {},
     "output_type": "execute_result"
    }
   ],
   "source": [
    "#datetime(2020,in_service_date.month+1,1)\n",
    "datetime(2020,13%12,1)\n",
    "\n",
    "#pd.to_timedelta('2019-01-02', unit='d')"
   ]
  },
  {
   "cell_type": "code",
   "execution_count": 150,
   "metadata": {},
   "outputs": [],
   "source": [
    "# test pandas date functions\n",
    "in_service_date\n",
    "last_day_of_month = in_service_date + pd.tseries.offsets.DateOffset(months=1) -pd.tseries.offsets.DateOffset(days=in_service_date.day)"
   ]
  },
  {
   "cell_type": "code",
   "execution_count": 151,
   "metadata": {},
   "outputs": [
    {
     "name": "stdout",
     "output_type": "stream",
     "text": [
      "inservice date:  2020-03-15 00:00:00\n",
      "days in the month:  31\n",
      "first section is day 1 to day 15 for a total of 14 days or a fraction of 0.45161290322580644\n",
      "first half of fist month:  0.45161290322580644\n",
      "second half of first month: 0.5483870967741935\n",
      "first half + second half:  1.0\n",
      "the 13 months of montly adjusted values are: \n",
      "[0.05538709677419354, 0.1058, 0.1143, 0.1155, 0.1095, 0.0889, 0.0706, 0.0503, 0.0443, 0.0502, 0.06, 0.0878, 0.045612903225806446]\n",
      "the sum of the 13 month section is:  0.9982\n"
     ]
    }
   ],
   "source": [
    "m = list(mpc['Monthly Curve'])\n",
    "first_month = in_service_date.month\n",
    "last_day_of_month = in_service_date + pd.tseries.offsets.DateOffset(months=1) - pd.tseries.offsets.DateOffset(days=in_service_date.day)\n",
    "days_in_month = last_day_of_month.day\n",
    "first_section_m1 = float((in_service_date.day - 1)/days_in_month)\n",
    "last_section_m1 = float((days_in_month - in_service_date.day + 1)/days_in_month)\n",
    "print('inservice date: ',in_service_date)\n",
    "print('days in the month: ', days_in_month)\n",
    "print('first section is day 1 to day {0} for a total of {1} days or a fraction of {2}'.format(in_service_date.day,\n",
    "    in_service_date.day-1,\n",
    "  float((in_service_date.day-1)/days_in_month )))\n",
    "print('first half of fist month: ',first_section_m1)\n",
    "print('second half of first month:', last_section_m1)\n",
    "print('first half + second half: ', first_section_m1 + last_section_m1)\n",
    "\n",
    "# make 13 months\n",
    "months_13 = m[first_month:] + m[:first_month] \n",
    "months_13.append(m[first_month])\n",
    "months_13[0] = float(months_13[0]) * last_section_m1\n",
    "months_13[-1] = months_13[-1] * first_section_m1\n",
    "print('the 13 months of montly adjusted values are: ')\n",
    "print(months_13)\n",
    "print('the sum of the 13 month section is: ',sum(months_13))\n",
    "\n",
    "\n"
   ]
  },
  {
   "cell_type": "code",
   "execution_count": 152,
   "metadata": {},
   "outputs": [
    {
     "data": {
      "text/plain": [
       "0.99"
      ]
     },
     "execution_count": 152,
     "metadata": {},
     "output_type": "execute_result"
    }
   ],
   "source": [
    "# make annual degradation\n",
    "i=2\n",
    "1 -(i*.005)"
   ]
  },
  {
   "cell_type": "code",
   "execution_count": 153,
   "metadata": {},
   "outputs": [],
   "source": [
    "# make annual production\n",
    "annual_production = system_size * specific_yield_per_year"
   ]
  },
  {
   "cell_type": "code",
   "execution_count": 166,
   "metadata": {},
   "outputs": [
    {
     "name": "stdout",
     "output_type": "stream",
     "text": [
      "[1250. 1250. 1250. 1250. 1250. 1250. 1250. 1250. 1250. 1250. 1250. 1250.\n",
      " 1250.]\n",
      "[0.05538709677419354, 0.1058, 0.1143, 0.1155, 0.1095, 0.0889, 0.0706, 0.0503, 0.0443, 0.0502, 0.06, 0.0878, 0.045612903225806446]\n",
      "[ 69.23387097 132.25       142.875      144.375      136.875\n",
      " 111.125       88.25        62.875       55.375       62.75\n",
      "  75.         109.75        57.01612903]\n",
      "sum of temp =  1247.75\n",
      "[ 69 132 142 144 136 111  88  62  55  62  75 109  57   0   0   0   0   0\n",
      "   0   0   0   0   0   0   0]\n"
     ]
    }
   ],
   "source": [
    "# make 25 years of production\n",
    "# testing one iteration of the loop\n",
    "prod = [0] * 301\n",
    "prod = np.array(prod)\n",
    "idx= 0\n",
    "i = 0\n",
    "#for i in range(25):\n",
    "degradation = 1 - (i*0.005)\n",
    "this_year_prod = np.array([annual_production * degradation] * 13)\n",
    "temp = np.array(months_13) * this_year_prod\n",
    "print(this_year_prod)\n",
    "print(months_13)\n",
    "print(temp)\n",
    "print('sum of temp = ',sum(temp))\n",
    "prod[i*13:(i+1)*13] = temp\n",
    "print(prod[0:25])\n",
    "#prod = prod + temp\n"
   ]
  },
  {
   "cell_type": "code",
   "execution_count": 233,
   "metadata": {},
   "outputs": [
    {
     "name": "stdout",
     "output_type": "stream",
     "text": [
      "years\n",
      "0  1  2  3  4  5  6  7  8  9  10  11  12  13  14  15  16  17  18  19  20  21  22  23  24  "
     ]
    }
   ],
   "source": [
    "# wrong answer\n",
    "# loop across all years\n",
    "prod = np.array([0]*325)\n",
    "print('years')\n",
    "for i in range(25):\n",
    "    print(i,end='  ')\n",
    "    degradation = 1 - (i * annual_degradation_rate)\n",
    "    this_year_prod = np.array([annual_production * degradation] * 13)\n",
    "    temp = np.array(months_13) * this_year_prod\n",
    "    temp1 = prod[i*13]\n",
    "    prod[i*13:(i+1)*13] = temp\n",
    "    prod[i*13] += temp1\n",
    "    #prod[i*13] = prod[i*13] + temp[0]\n",
    "    #prod[i*13+1:(i+1)*13] = temp[1:]"
   ]
  },
  {
   "cell_type": "code",
   "execution_count": 180,
   "metadata": {},
   "outputs": [
    {
     "data": {
      "text/plain": [
       "array([ 69, 132, 142, 144, 136, 111,  88,  62,  55,  62,  75, 109,  57,\n",
       "        68, 131, 142, 143, 136, 110,  87,  62,  55,  62,  74, 109,  56,\n",
       "        68, 130, 141, 142, 135, 110,  87,  62,  54,  62,  74, 108,  56,\n",
       "        68, 130, 140, 142, 134, 109,  86,  61,  54,  61,  73, 108,  56,\n",
       "        67, 129, 140, 141, 134, 108,  86,  61,  54,  61,  73, 107,  55,\n",
       "        67, 128, 139, 140, 133, 108,  86,  61,  53,  61,  73, 107,  55,\n",
       "        67, 128, 138, 140, 132, 107,  85,  60,  53,  60,  72, 106,  55,\n",
       "        66, 127, 137, 139, 132, 107,  85,  60,  53,  60,  72, 105,  55,\n",
       "        66, 126, 137, 138, 131, 106,  84,  60,  53,  60,  72, 105,  54,\n",
       "        66, 126, 136, 137, 130, 106,  84,  60,  52,  59,  71, 104,  54,\n",
       "        65, 125, 135, 137, 130, 105,  83,  59,  52,  59,  71, 104,  54,\n",
       "        65, 124, 135, 136, 129, 105,  83,  59,  52,  59,  70, 103,  53,\n",
       "        65, 124, 134, 135, 128, 104,  82,  59,  52,  58,  70, 103,  53,\n",
       "        64, 123, 133, 134, 127, 103,  82,  58,  51,  58,  70, 102,  53,\n",
       "        64, 122, 132, 134, 127, 103,  82,  58,  51,  58,  69, 102,  53,\n",
       "        64, 122, 132, 133, 126, 102,  81,  58,  51,  58,  69, 101,  52,\n",
       "        63, 121, 131, 132, 125, 102,  81,  57,  50,  57,  69, 100,  52,\n",
       "        63, 121, 130, 132, 125, 101,  80,  57,  50,  57,  68, 100,  52,\n",
       "        63, 120, 130, 131, 124, 101,  80,  57,  50,  57,  68,  99,  51,\n",
       "        62, 119, 129, 130, 123, 100,  79,  56,  50,  56,  67,  99,  51,\n",
       "        62, 119, 128, 129, 123, 100,  79,  56,  49,  56,  67,  98,  51,\n",
       "        61, 118, 127, 129, 122,  99,  78,  56,  49,  56,  67,  98,  51,\n",
       "        61, 117, 127, 128, 121,  98,  78,  55,  49,  55,  66,  97,  50,\n",
       "        61, 117, 126, 127, 121,  98,  78,  55,  49,  55,  66,  97,  50,\n",
       "        60, 116, 125, 127, 120,  97,  77,  55,  48,  55,  66,  96,  50])"
      ]
     },
     "execution_count": 180,
     "metadata": {},
     "output_type": "execute_result"
    }
   ],
   "source": [
    "prod"
   ]
  },
  {
   "cell_type": "code",
   "execution_count": null,
   "metadata": {},
   "outputs": [],
   "source": []
  },
  {
   "cell_type": "code",
   "execution_count": 202,
   "metadata": {},
   "outputs": [],
   "source": [
    "# loop across all years\n",
    "# turn on printing for debugging\n",
    "prod = np.array([0]*301)\n",
    "for i in range(25):\n",
    "    #print(i)\n",
    "    degradation = 1 - (i * annual_degradation_rate)\n",
    "    this_year_prod = np.array([annual_production * degradation] * 13)\n",
    "    temp = np.array(months_13) * this_year_prod\n",
    "    if i == 0:\n",
    "        prod[i*13:(i+1)*13] = temp\n",
    "    else:\n",
    "        #print(prod[i*12:(i+1)*12+1])\n",
    "        #print(temp)\n",
    "        #print(prod[i*12:(i+1)*12+1] + temp)\n",
    "        prod[i*12:(i+1)*12+1] = prod[i*12:(i+1)*12+1] + temp\n",
    "        #print(prod[i*12:(i+1)*12+1])\n",
    "   "
   ]
  },
  {
   "cell_type": "code",
   "execution_count": 203,
   "metadata": {},
   "outputs": [
    {
     "data": {
      "text/plain": [
       "array([ 69, 132, 142, 144, 136, 111,  88,  62,  55,  62,  75, 109, 125,\n",
       "       131, 142, 143, 136, 110,  87,  62,  55,  62,  74, 109, 124, 130,\n",
       "       141, 142, 135, 110,  87,  62,  54,  62,  74, 108, 124, 130, 140,\n",
       "       142, 134, 109,  86,  61,  54,  61,  73, 108, 123, 129, 140, 141,\n",
       "       134, 108,  86,  61,  54,  61,  73, 107, 122, 128, 139, 140, 133,\n",
       "       108,  86,  61,  53,  61,  73, 107, 122, 128, 138, 140, 132, 107,\n",
       "        85,  60,  53,  60,  72, 106, 121, 127, 137, 139, 132, 107,  85,\n",
       "        60,  53,  60,  72, 105, 121, 126, 137, 138, 131, 106,  84,  60,\n",
       "        53,  60,  72, 105, 120, 126, 136, 137, 130, 106,  84,  60,  52,\n",
       "        59,  71, 104, 119, 125, 135, 137, 130, 105,  83,  59,  52,  59,\n",
       "        71, 104, 119, 124, 135, 136, 129, 105,  83,  59,  52,  59,  70,\n",
       "       103, 118, 124, 134, 135, 128, 104,  82,  59,  52,  58,  70, 103,\n",
       "       117, 123, 133, 134, 127, 103,  82,  58,  51,  58,  70, 102, 117,\n",
       "       122, 132, 134, 127, 103,  82,  58,  51,  58,  69, 102, 117, 122,\n",
       "       132, 133, 126, 102,  81,  58,  51,  58,  69, 101, 115, 121, 131,\n",
       "       132, 125, 102,  81,  57,  50,  57,  69, 100, 115, 121, 130, 132,\n",
       "       125, 101,  80,  57,  50,  57,  68, 100, 115, 120, 130, 131, 124,\n",
       "       101,  80,  57,  50,  57,  68,  99, 113, 119, 129, 130, 123, 100,\n",
       "        79,  56,  50,  56,  67,  99, 113, 119, 128, 129, 123, 100,  79,\n",
       "        56,  49,  56,  67,  98, 112, 118, 127, 129, 122,  99,  78,  56,\n",
       "        49,  56,  67,  98, 112, 117, 127, 128, 121,  98,  78,  55,  49,\n",
       "        55,  66,  97, 111, 117, 126, 127, 121,  98,  78,  55,  49,  55,\n",
       "        66,  97, 110, 116, 125, 127, 120,  97,  77,  55,  48,  55,  66,\n",
       "        96,  50])"
      ]
     },
     "execution_count": 203,
     "metadata": {},
     "output_type": "execute_result"
    }
   ],
   "source": [
    "prod"
   ]
  },
  {
   "cell_type": "code",
   "execution_count": 187,
   "metadata": {},
   "outputs": [
    {
     "data": {
      "text/plain": [
       "array([ 60.92580645, 116.38      , 125.73      , 127.05      ,\n",
       "       120.45      ,  97.79      ,  77.66      ,  55.33      ,\n",
       "        48.73      ,  55.22      ,  66.        ,  96.58      ,\n",
       "        50.17419355])"
      ]
     },
     "execution_count": 187,
     "metadata": {},
     "output_type": "execute_result"
    }
   ],
   "source": [
    "temp"
   ]
  },
  {
   "cell_type": "code",
   "execution_count": 221,
   "metadata": {},
   "outputs": [],
   "source": [
    "# combine date ranges and production into dataframe\n",
    "df = pd.DataFrame(index=date_range, data=prod)\n",
    "df = pd.DataFrame(index=date_range, data={'production':prod})#.rename(index='date')\n",
    "df = df.rename(index={'':'date'})"
   ]
  },
  {
   "cell_type": "code",
   "execution_count": 222,
   "metadata": {},
   "outputs": [
    {
     "data": {
      "text/html": [
       "<div>\n",
       "<style scoped>\n",
       "    .dataframe tbody tr th:only-of-type {\n",
       "        vertical-align: middle;\n",
       "    }\n",
       "\n",
       "    .dataframe tbody tr th {\n",
       "        vertical-align: top;\n",
       "    }\n",
       "\n",
       "    .dataframe thead th {\n",
       "        text-align: right;\n",
       "    }\n",
       "</style>\n",
       "<table border=\"1\" class=\"dataframe\">\n",
       "  <thead>\n",
       "    <tr style=\"text-align: right;\">\n",
       "      <th></th>\n",
       "      <th>production</th>\n",
       "    </tr>\n",
       "  </thead>\n",
       "  <tbody>\n",
       "    <tr>\n",
       "      <th>2020-03-31</th>\n",
       "      <td>69</td>\n",
       "    </tr>\n",
       "    <tr>\n",
       "      <th>2020-04-30</th>\n",
       "      <td>132</td>\n",
       "    </tr>\n",
       "    <tr>\n",
       "      <th>2020-05-31</th>\n",
       "      <td>142</td>\n",
       "    </tr>\n",
       "    <tr>\n",
       "      <th>2020-06-30</th>\n",
       "      <td>144</td>\n",
       "    </tr>\n",
       "    <tr>\n",
       "      <th>2020-07-31</th>\n",
       "      <td>136</td>\n",
       "    </tr>\n",
       "  </tbody>\n",
       "</table>\n",
       "</div>"
      ],
      "text/plain": [
       "            production\n",
       "2020-03-31          69\n",
       "2020-04-30         132\n",
       "2020-05-31         142\n",
       "2020-06-30         144\n",
       "2020-07-31         136"
      ]
     },
     "execution_count": 222,
     "metadata": {},
     "output_type": "execute_result"
    }
   ],
   "source": [
    "df.head()"
   ]
  },
  {
   "cell_type": "code",
   "execution_count": 230,
   "metadata": {},
   "outputs": [],
   "source": [
    "d = {'date':date_range,'prod':prod}\n",
    "df = pd.DataFrame(d).set_index('date')"
   ]
  },
  {
   "cell_type": "code",
   "execution_count": 231,
   "metadata": {},
   "outputs": [
    {
     "data": {
      "text/html": [
       "<div>\n",
       "<style scoped>\n",
       "    .dataframe tbody tr th:only-of-type {\n",
       "        vertical-align: middle;\n",
       "    }\n",
       "\n",
       "    .dataframe tbody tr th {\n",
       "        vertical-align: top;\n",
       "    }\n",
       "\n",
       "    .dataframe thead th {\n",
       "        text-align: right;\n",
       "    }\n",
       "</style>\n",
       "<table border=\"1\" class=\"dataframe\">\n",
       "  <thead>\n",
       "    <tr style=\"text-align: right;\">\n",
       "      <th></th>\n",
       "      <th>prod</th>\n",
       "    </tr>\n",
       "    <tr>\n",
       "      <th>date</th>\n",
       "      <th></th>\n",
       "    </tr>\n",
       "  </thead>\n",
       "  <tbody>\n",
       "    <tr>\n",
       "      <th>2020-03-31</th>\n",
       "      <td>69</td>\n",
       "    </tr>\n",
       "    <tr>\n",
       "      <th>2020-04-30</th>\n",
       "      <td>132</td>\n",
       "    </tr>\n",
       "    <tr>\n",
       "      <th>2020-05-31</th>\n",
       "      <td>142</td>\n",
       "    </tr>\n",
       "    <tr>\n",
       "      <th>2020-06-30</th>\n",
       "      <td>144</td>\n",
       "    </tr>\n",
       "    <tr>\n",
       "      <th>2020-07-31</th>\n",
       "      <td>136</td>\n",
       "    </tr>\n",
       "  </tbody>\n",
       "</table>\n",
       "</div>"
      ],
      "text/plain": [
       "            prod\n",
       "date            \n",
       "2020-03-31    69\n",
       "2020-04-30   132\n",
       "2020-05-31   142\n",
       "2020-06-30   144\n",
       "2020-07-31   136"
      ]
     },
     "execution_count": 231,
     "metadata": {},
     "output_type": "execute_result"
    }
   ],
   "source": [
    "#df = df.set_index('date')\n",
    "df.head()"
   ]
  },
  {
   "cell_type": "code",
   "execution_count": null,
   "metadata": {},
   "outputs": [],
   "source": [
    "# weather issues"
   ]
  }
 ],
 "metadata": {
  "kernelspec": {
   "display_name": "Python 3",
   "language": "python",
   "name": "python3"
  },
  "language_info": {
   "codemirror_mode": {
    "name": "ipython",
    "version": 3
   },
   "file_extension": ".py",
   "mimetype": "text/x-python",
   "name": "python",
   "nbconvert_exporter": "python",
   "pygments_lexer": "ipython3",
   "version": "3.7.3"
  }
 },
 "nbformat": 4,
 "nbformat_minor": 2
}
